{
 "cells": [
  {
   "cell_type": "code",
   "execution_count": 1,
   "metadata": {},
   "outputs": [
    {
     "name": "stdout",
     "output_type": "stream",
     "text": [
      "P =  2 3.1 ()\n",
      "marc dupont <__main__.DateNaissance object at 0x01311D78>\n",
      "('dupont', 'marc', <__main__.DateNaissance object at 0x01311D78>)\n",
      "('harry', 45000, <__main__.DateNaissance object at 0x01321118>, 'potter')\n",
      "(<__main__.DateNaissance object at 0x01321280>, 'PDG', 70000, 'dufric', 'fabieng')\n"
     ]
    }
   ],
   "source": [
    "class compteBancaire:\n",
    "    def __init__(self, nom, solde):\n",
    "        self.nom = nom\n",
    "        self.solde = solde\n",
    "\n",
    "    def ajoutsolde(self, somme):\n",
    "        self.solde = self.solde + somme\n",
    "\n",
    "    def retrait(self, somme):\n",
    "        self.solde = self.solde - somme\n",
    "\n",
    "    def affichersolde(self):\n",
    "        print(self.solde)\n",
    "\n"
   ]
  },
  {
   "cell_type": "code",
   "execution_count": 2,
   "metadata": {},
   "outputs": [],
   "source": [
    "compte1 = compteBancaire('jean', 2000)\n",
    "compte2 = compteBancaire('dupont2', 1000)\n",
    "compte3 = compteBancaire('dupont3', 1000)"
   ]
  },
  {
   "cell_type": "code",
   "execution_count": 3,
   "metadata": {},
   "outputs": [],
   "source": [
    "# compte1.ajoutsolde(200)\n",
    "# compte1.retrait(724)\n",
    "# print(compte1.nom, compte1.solde)\n",
    "# compte1.affichersolde()\n",
    "\n",
    "# jupiter est un IDE serveur, et les fichiers sotn des calepins\n",
    "\n",
    "# mot = \"lac\"\n",
    "# print(mot)\n",
    "# # le point dans le 1 représente un slice\n",
    "# # [1:] => coupe le contenu avant le caratère 1 donc mot = ac\n",
    "# # b + ac = bac\n",
    "# mot = \"b\" + mot[1:]\n",
    "# print(mot)\n",
    "\n",
    "# self = this\n",
    "\n",
    "# init = construct\n",
    "\n",
    "###########################\n",
    "################ Exercice 2\n",
    "###########################"
   ]
  },
  {
   "cell_type": "code",
   "execution_count": 4,
   "metadata": {},
   "outputs": [
    {
     "ename": "SyntaxError",
     "evalue": "invalid syntax (<ipython-input-4-d2a8576e9fc7>, line 1)",
     "output_type": "error",
     "traceback": [
      "\u001b[1;36m  File \u001b[1;32m\"<ipython-input-4-d2a8576e9fc7>\"\u001b[1;36m, line \u001b[1;32m1\u001b[0m\n\u001b[1;33m    Surcharge opérateur\u001b[0m\n\u001b[1;37m              ^\u001b[0m\n\u001b[1;31mSyntaxError\u001b[0m\u001b[1;31m:\u001b[0m invalid syntax\n"
     ]
    }
   ],
   "source": [
    "#Surcharge opérateur"
   ]
  },
  {
   "cell_type": "code",
   "execution_count": 8,
   "metadata": {},
   "outputs": [
    {
     "name": "stdout",
     "output_type": "stream",
     "text": [
      "P 2 3.1\n",
      "P( 5 7 23\n"
     ]
    }
   ],
   "source": [
    "class point:\n",
    "    def __init__(self, x, y, z = None):\n",
    "        self.x = x\n",
    "        self.y = y\n",
    "        self.z = z\n",
    "\n",
    "    def toString(self, num):\n",
    "        if not self.z:\n",
    "            print(\"P\", self.x, self.y)\n",
    "        else:\n",
    "            print(\"P\",self.x,self.y,self.z)\n",
    "\n",
    "\n",
    "p1 = point(2,3.1)\n",
    "p1.toString(3)\n",
    "\n",
    "p2 = point(5, 7, 23)\n",
    "p2.toString(3)\n",
    "\n"
   ]
  },
  {
   "cell_type": "code",
   "execution_count": 10,
   "metadata": {},
   "outputs": [],
   "source": [
    "###########################\n",
    "################ Exercice 3\n",
    "###########################\n",
    "\n",
    "class DateNaissance:\n",
    "    def __init__(self, jour, mois, annee):\n",
    "        self.jour = jour\n",
    "        self.mois = mois\n",
    "        self.annee = annee\n",
    "\n",
    "    def toString(self):\n",
    "        return (str(self.jour)+'/'+str(self.mois)+'/'+str(self.annee))\n"
   ]
  },
  {
   "cell_type": "code",
   "execution_count": 11,
   "metadata": {},
   "outputs": [
    {
     "data": {
      "text/plain": [
       "'27/4/2020'"
      ]
     },
     "execution_count": 11,
     "metadata": {},
     "output_type": "execute_result"
    }
   ],
   "source": [
    "date1 = DateNaissance(27, 4, 2020)\n",
    "date1.toString()"
   ]
  },
  {
   "cell_type": "code",
   "execution_count": 14,
   "metadata": {},
   "outputs": [],
   "source": [
    "class Personne:\n",
    "    def __init__(self, nom, prenom, datenaissance):\n",
    "        self.nom = nom\n",
    "        self.prenom = prenom\n",
    "        self.datenaissance = datenaissance.toString()\n",
    "\n",
    "    def afficherInfos(self):\n",
    "        return (self.nom, self.prenom, self.datenaissance)"
   ]
  },
  {
   "cell_type": "code",
   "execution_count": 15,
   "metadata": {},
   "outputs": [
    {
     "name": "stdout",
     "output_type": "stream",
     "text": [
      "marc dupont 27/4/2020\n",
      "('dupont', 'marc', '27/4/2020')\n"
     ]
    }
   ],
   "source": [
    "personne1 = Personne('dupont', 'marc', DateNaissance(27,4,2020))\n",
    "print(personne1.prenom, personne1.nom, personne1.datenaissance)\n",
    "print(personne1.afficherInfos())"
   ]
  },
  {
   "cell_type": "code",
   "execution_count": 18,
   "metadata": {},
   "outputs": [
    {
     "name": "stdout",
     "output_type": "stream",
     "text": [
      "('harry', 'potter', '27/4/2020', 45000)\n",
      "('dufric', '23/4/2020', 'fabieng', 70000, 'PDG')\n"
     ]
    }
   ],
   "source": [
    "class Employé(Personne):\n",
    "    def __init__(self, nom, prenom, datenaissance, salaire):\n",
    "        Personne.__init__(self, nom, prenom, datenaissance)\n",
    "        #super().__init__(nom, prenom, datenaissance)\n",
    "        self.salaire = salaire\n",
    "\n",
    "    def afficherInfos(self):\n",
    "        return (self.nom, self.prenom, self.datenaissance, self.salaire)\n",
    "\n",
    "employe1 = Employé('harry', 'potter', DateNaissance(27,4,2020), 45000)\n",
    "print(employe1.afficherInfos())\n",
    "\n",
    "class Chef(Personne):\n",
    "    def __init__(self, nom, prenom, datenaissance, salaire, service):\n",
    "        Employé.__init__(self, nom, prenom, datenaissance, salaire)\n",
    "        #super().__init__(nom, prenom, datenaissance)\n",
    "        #self.salaire = salaire\n",
    "        self.service = service\n",
    "\n",
    "    def afficherInfos(self):\n",
    "        return (self.nom, self.datenaissance, self.prenom, self.salaire, self.service)\n",
    "\n",
    "chef1 = Chef('fabieng', 'dufric', DateNaissance(23,4,2020), 70000, 'PDG')\n",
    "print(chef1.afficherInfos())\n"
   ]
  },
  {
   "cell_type": "code",
   "execution_count": 40,
   "metadata": {},
   "outputs": [
    {
     "name": "stdout",
     "output_type": "stream",
     "text": [
      "Lettre: => Destination : 2 rue paris, Expediteur: 3 rue marseille, Poids: 300grammes, mode: normal, format: a4\n",
      "0.75\n",
      "Colis: => Destination : 4 rue darrivee, Expediteur: rue dentree, Poids: 1000grammes, mode: express, volume: 40 litres\n",
      "20.0\n"
     ]
    }
   ],
   "source": [
    "###########################\n",
    "################ Exercice 4\n",
    "###########################\n",
    "\n",
    "class Lettre:\n",
    "    def __init__(self, poids, modeExpedition, addrDestination, addreExpedition, formatLettre):\n",
    "        self.poids = poids\n",
    "        self.modeExpedition = modeExpedition\n",
    "        self.addrDestination = addrDestination\n",
    "        self.addreExpedition = addreExpedition\n",
    "        self.formatLettre = formatLettre\n",
    "    \n",
    "    def calculTimbre(self):\n",
    "        if(self.formatLettre == \"A3\"):\n",
    "            prixbase = 3.50\n",
    "        else:\n",
    "            prixbase = 2.50\n",
    "        prixTimbre = prixbase * self.poids/1000\n",
    "        if(self.modeExpedition == \"express\"):   \n",
    "            print(prixTimbre * 2)\n",
    "        else:\n",
    "            print(prixTimbre)\n",
    "        \n",
    "    def toString(self):\n",
    "        print('Lettre: => Destination : '+self.addrDestination+', Expediteur: '+self.addreExpedition+', Poids: '+str(self.poids)+'grammes, mode: '+self.modeExpedition+', format: '+self.formatLettre)\n",
    "        \n",
    "class Colis:\n",
    "    def __init__(self, poids, modeExpedition, addrDestination, addreExpedition, volume):\n",
    "        self.poids = poids\n",
    "        self.modeExpedition = modeExpedition\n",
    "        self.addrDestination = addrDestination\n",
    "        self.addreExpedition = addreExpedition\n",
    "        self.volume = volume\n",
    "        \n",
    "    def calculTimbre(self):\n",
    "        prixTimbre = (self.poids/1000) * (0.25 * self.volume)\n",
    "        if(self.modeExpedition == \"express\"):   \n",
    "            print(prixTimbre * 2)\n",
    "        else:\n",
    "            print(prixTimbre)\n",
    "        \n",
    "    def toString(self):\n",
    "        print('Colis: => Destination : '+self.addrDestination+', Expediteur: '+self.addreExpedition+', Poids: '+str(self.poids)+'grammes, mode: '+self.modeExpedition+', volume: '+str(self.volume)+' litres')\n",
    "        \n",
    "    \n",
    "exemple = Lettre(300, 'normal','2 rue paris', '3 rue marseille', 'a4')\n",
    "exemplecolis = Colis(1000, 'express', '4 rue darrivee', 'rue dentree', 40)\n",
    "\n",
    "exemple.toString()\n",
    "exemple.calculTimbre()\n",
    "\n",
    "exemplecolis.toString()\n",
    "exemplecolis.calculTimbre()"
   ]
  }
 ],
 "metadata": {
  "kernelspec": {
   "display_name": "Python 3",
   "language": "python",
   "name": "python3"
  },
  "language_info": {
   "codemirror_mode": {
    "name": "ipython",
    "version": 3
   },
   "file_extension": ".py",
   "mimetype": "text/x-python",
   "name": "python",
   "nbconvert_exporter": "python",
   "pygments_lexer": "ipython3",
   "version": "3.8.2"
  }
 },
 "nbformat": 4,
 "nbformat_minor": 4
}
